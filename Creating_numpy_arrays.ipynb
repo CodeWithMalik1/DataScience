{
 "cells": [
  {
   "cell_type": "code",
   "execution_count": 1,
   "id": "bd56d68f-6cf4-4f62-ac8b-ce7a0a705783",
   "metadata": {},
   "outputs": [
    {
     "data": {
      "text/plain": [
       "array([1, 2, 3, 4])"
      ]
     },
     "execution_count": 1,
     "metadata": {},
     "output_type": "execute_result"
    }
   ],
   "source": [
    "import numpy as np\n",
    "arr1=np.array([1,2,3,4])\n",
    "arr1"
   ]
  },
  {
   "cell_type": "code",
   "execution_count": 2,
   "id": "041e9691-ccf9-4305-8a8d-f9335269f018",
   "metadata": {},
   "outputs": [
    {
     "name": "stdout",
     "output_type": "stream",
     "text": [
      "[1 2 3 4]\n"
     ]
    }
   ],
   "source": [
    "print(arr1)"
   ]
  },
  {
   "cell_type": "code",
   "execution_count": 3,
   "id": "853cfe0a-9e74-40fd-be5a-69ca47820d7a",
   "metadata": {},
   "outputs": [
    {
     "data": {
      "text/plain": [
       "array([[0., 0., 0., 0.],\n",
       "       [0., 0., 0., 0.],\n",
       "       [0., 0., 0., 0.]])"
      ]
     },
     "execution_count": 3,
     "metadata": {},
     "output_type": "execute_result"
    }
   ],
   "source": [
    "np.zeros((3,4))"
   ]
  },
  {
   "cell_type": "code",
   "execution_count": 4,
   "id": "2f2a5bad-58c5-4b8e-98d4-fe7ec6e036ce",
   "metadata": {},
   "outputs": [
    {
     "data": {
      "text/plain": [
       "array([[1., 1., 1., 1.],\n",
       "       [1., 1., 1., 1.],\n",
       "       [1., 1., 1., 1.],\n",
       "       [1., 1., 1., 1.]])"
      ]
     },
     "execution_count": 4,
     "metadata": {},
     "output_type": "execute_result"
    }
   ],
   "source": [
    "np.ones((4,4))"
   ]
  },
  {
   "cell_type": "code",
   "execution_count": 6,
   "id": "cb630c16-408b-479d-bfea-05298f5566f9",
   "metadata": {},
   "outputs": [
    {
     "data": {
      "text/plain": [
       "array([[5, 5],\n",
       "       [5, 5]])"
      ]
     },
     "execution_count": 6,
     "metadata": {},
     "output_type": "execute_result"
    }
   ],
   "source": [
    "np.full((2,2),5)"
   ]
  },
  {
   "cell_type": "code",
   "execution_count": 7,
   "id": "acecb636-bb91-4e9c-b3fa-abb2af16a5a3",
   "metadata": {},
   "outputs": [
    {
     "data": {
      "text/plain": [
       "array([[1., 0., 0., 0.],\n",
       "       [0., 1., 0., 0.],\n",
       "       [0., 0., 1., 0.],\n",
       "       [0., 0., 0., 1.]])"
      ]
     },
     "execution_count": 7,
     "metadata": {},
     "output_type": "execute_result"
    }
   ],
   "source": [
    "#Identity Matrix\n",
    "np.eye(4)"
   ]
  },
  {
   "cell_type": "code",
   "execution_count": 9,
   "id": "1cb28016-1443-4297-acb4-1962e2031c21",
   "metadata": {},
   "outputs": [
    {
     "data": {
      "text/plain": [
       "array([ 2,  5,  8, 11, 14, 17, 20, 23, 26, 29, 32, 35, 38, 41, 44, 47, 50,\n",
       "       53, 56, 59, 62, 65, 68, 71, 74, 77, 80, 83, 86, 89, 92, 95, 98])"
      ]
     },
     "execution_count": 9,
     "metadata": {},
     "output_type": "execute_result"
    }
   ],
   "source": [
    "#Continous adding\n",
    "np.arange(2,100,3)"
   ]
  },
  {
   "cell_type": "code",
   "execution_count": 10,
   "id": "632ded05-e008-4418-86d9-ae7a5889cd13",
   "metadata": {},
   "outputs": [
    {
     "data": {
      "text/plain": [
       "array([  1.  ,  25.75,  50.5 ,  75.25, 100.  ])"
      ]
     },
     "execution_count": 10,
     "metadata": {},
     "output_type": "execute_result"
    }
   ],
   "source": [
    "#evenly spacing \n",
    "np.linspace(1,100,5)"
   ]
  },
  {
   "cell_type": "code",
   "execution_count": 15,
   "id": "e02c3ec4-f43e-4fff-b759-a575817611b0",
   "metadata": {},
   "outputs": [
    {
     "name": "stdout",
     "output_type": "stream",
     "text": [
      "[[1 2 3]\n",
      " [4 5 6]]\n"
     ]
    }
   ],
   "source": [
    "arr_2d=np.array([[1,2,3],\n",
    "              [4,5,6]])\n",
    "print(arr_2d)"
   ]
  },
  {
   "cell_type": "code",
   "execution_count": 16,
   "id": "38905038-d797-41b0-ada2-c7b2086afda6",
   "metadata": {},
   "outputs": [
    {
     "name": "stdout",
     "output_type": "stream",
     "text": [
      "Size :  6\n",
      "Shape : (2, 3)\n",
      "Dimensions :  2\n",
      "Data Type :  int64\n"
     ]
    }
   ],
   "source": [
    "#Checking properties\n",
    "arr = np.array([[10, 20, 30], [40, 50, 60]])\n",
    "print(\"Size : \",arr.size)\n",
    "print(\"Shape :\",arr.shape)\n",
    "print(\"Dimensions : \",arr.ndim)\n",
    "print(\"Data Type : \",arr.dtype)"
   ]
  },
  {
   "cell_type": "code",
   "execution_count": 17,
   "id": "95560886-0b3b-4218-91a5-121b2a841036",
   "metadata": {},
   "outputs": [
    {
     "data": {
      "text/plain": [
       "array([[1., 2., 3.],\n",
       "       [4., 5., 6.],\n",
       "       [7., 8., 9.]], dtype=float32)"
      ]
     },
     "execution_count": 17,
     "metadata": {},
     "output_type": "execute_result"
    }
   ],
   "source": [
    "#Changing Data Types (Explictt type)\n",
    "myarr=np.array([[1,2,3],[4,5,6],[7,8,9]],dtype='float32')\n",
    "myarr"
   ]
  },
  {
   "cell_type": "code",
   "execution_count": 18,
   "id": "baa45c6d-763f-4a95-bc69-1b055fb955c3",
   "metadata": {},
   "outputs": [
    {
     "name": "stdout",
     "output_type": "stream",
     "text": [
      "float32\n"
     ]
    }
   ],
   "source": [
    "print(myarr.dtype)"
   ]
  },
  {
   "cell_type": "code",
   "execution_count": 20,
   "id": "13de1759-1674-4f30-885d-88d916d6ec59",
   "metadata": {},
   "outputs": [
    {
     "name": "stdout",
     "output_type": "stream",
     "text": [
      "[[1 2 3]\n",
      " [4 5 6]\n",
      " [7 8 9]]\n"
     ]
    }
   ],
   "source": [
    "arr_to_int=myarr.astype(np.int32)\n",
    "print(arr_to_int)"
   ]
  },
  {
   "cell_type": "code",
   "execution_count": 21,
   "id": "5cc9bda2-be90-4d09-bde9-622b48e9af29",
   "metadata": {},
   "outputs": [
    {
     "name": "stdout",
     "output_type": "stream",
     "text": [
      "float32\n"
     ]
    }
   ],
   "source": [
    "print(myarr.dtype)"
   ]
  },
  {
   "cell_type": "code",
   "execution_count": 22,
   "id": "9c2ecbac-01e2-4bab-a603-229a43f7c99e",
   "metadata": {},
   "outputs": [
    {
     "name": "stdout",
     "output_type": "stream",
     "text": [
      "int32\n"
     ]
    }
   ],
   "source": [
    "print(arr_to_int.dtype)"
   ]
  },
  {
   "cell_type": "code",
   "execution_count": 27,
   "id": "fc46f5d2-09fc-4211-aad1-668c1c6e081a",
   "metadata": {},
   "outputs": [
    {
     "name": "stdout",
     "output_type": "stream",
     "text": [
      "Before Reshaped \n",
      "[[23  4  5]\n",
      " [ 3  4  5]\n",
      " [ 9  8  7]\n",
      " [ 6  5  4]]\n",
      "After Reshaped\n",
      "[[23  4  5  3]\n",
      " [ 4  5  9  8]\n",
      " [ 7  6  5  4]]\n"
     ]
    }
   ],
   "source": [
    "arr2=np.array([[23,4,5,],[3,4,5],[9,8,7],[6,5,4]])\n",
    "print(\"Before Reshaped \")\n",
    "print(arr2)\n",
    "reshaped=arr2.reshape((3,4))\n",
    "print(\"After Reshaped\")\n",
    "print(reshaped)"
   ]
  },
  {
   "cell_type": "code",
   "execution_count": 29,
   "id": "6fc94dc2-daa5-4481-b1b7-f66608f3430d",
   "metadata": {},
   "outputs": [
    {
     "name": "stdout",
     "output_type": "stream",
     "text": [
      "[23  4  5  3  4  5  9  8  7  6  5  4]\n"
     ]
    }
   ],
   "source": [
    "flattened = arr2.flatten()  # Convert 2D → 1D\n",
    "print(flattened)  # [1 2 3 4 5 6]"
   ]
  },
  {
   "cell_type": "code",
   "execution_count": null,
   "id": "73f5e998-4bbb-40e2-a222-5553ca298c58",
   "metadata": {},
   "outputs": [],
   "source": []
  }
 ],
 "metadata": {
  "kernelspec": {
   "display_name": "Python 3 (ipykernel)",
   "language": "python",
   "name": "python3"
  },
  "language_info": {
   "codemirror_mode": {
    "name": "ipython",
    "version": 3
   },
   "file_extension": ".py",
   "mimetype": "text/x-python",
   "name": "python",
   "nbconvert_exporter": "python",
   "pygments_lexer": "ipython3",
   "version": "3.13.5"
  }
 },
 "nbformat": 4,
 "nbformat_minor": 5
}
