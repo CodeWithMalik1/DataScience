{
 "cells": [
  {
   "cell_type": "code",
   "execution_count": 2,
   "id": "13da7ddd-150f-466b-b68a-cca709141643",
   "metadata": {},
   "outputs": [],
   "source": [
    "import pandas as pd\n",
    "url = \"https://raw.githubusercontent.com/mwaskom/seaborn-data/master/tips.csv\"\n",
    "df = pd.read_csv(url)"
   ]
  },
  {
   "cell_type": "code",
   "execution_count": 3,
   "id": "394b56a0-4701-4861-8a38-6a87642d4375",
   "metadata": {},
   "outputs": [
    {
     "name": "stdout",
     "output_type": "stream",
     "text": [
      "     total_bill   tip     sex smoker   day    time  size\n",
      "0         16.99  1.01  Female     No   Sun  Dinner     2\n",
      "1         10.34  1.66    Male     No   Sun  Dinner     3\n",
      "2         21.01  3.50    Male     No   Sun  Dinner     3\n",
      "3         23.68  3.31    Male     No   Sun  Dinner     2\n",
      "4         24.59  3.61  Female     No   Sun  Dinner     4\n",
      "..          ...   ...     ...    ...   ...     ...   ...\n",
      "239       29.03  5.92    Male     No   Sat  Dinner     3\n",
      "240       27.18  2.00  Female    Yes   Sat  Dinner     2\n",
      "241       22.67  2.00    Male    Yes   Sat  Dinner     2\n",
      "242       17.82  1.75    Male     No   Sat  Dinner     2\n",
      "243       18.78  3.00  Female     No  Thur  Dinner     2\n",
      "\n",
      "[244 rows x 7 columns]\n"
     ]
    }
   ],
   "source": [
    "print(df)"
   ]
  },
  {
   "cell_type": "code",
   "execution_count": 4,
   "id": "b783f88f-c4ad-4ba3-b874-7591309d8957",
   "metadata": {},
   "outputs": [
    {
     "name": "stdout",
     "output_type": "stream",
     "text": [
      "   total_bill   tip     sex smoker  day    time  size\n",
      "0       16.99  1.01  Female     No  Sun  Dinner     2\n",
      "1       10.34  1.66    Male     No  Sun  Dinner     3\n",
      "2       21.01  3.50    Male     No  Sun  Dinner     3\n",
      "3       23.68  3.31    Male     No  Sun  Dinner     2\n",
      "4       24.59  3.61  Female     No  Sun  Dinner     4\n"
     ]
    }
   ],
   "source": [
    "print(df.head())"
   ]
  },
  {
   "cell_type": "code",
   "execution_count": 5,
   "id": "ee143bea-3c03-41e4-8370-2423a0839ffe",
   "metadata": {},
   "outputs": [
    {
     "data": {
      "text/html": [
       "<div>\n",
       "<style scoped>\n",
       "    .dataframe tbody tr th:only-of-type {\n",
       "        vertical-align: middle;\n",
       "    }\n",
       "\n",
       "    .dataframe tbody tr th {\n",
       "        vertical-align: top;\n",
       "    }\n",
       "\n",
       "    .dataframe thead th {\n",
       "        text-align: right;\n",
       "    }\n",
       "</style>\n",
       "<table border=\"1\" class=\"dataframe\">\n",
       "  <thead>\n",
       "    <tr style=\"text-align: right;\">\n",
       "      <th></th>\n",
       "      <th>total_bill</th>\n",
       "      <th>tip</th>\n",
       "      <th>sex</th>\n",
       "      <th>smoker</th>\n",
       "      <th>day</th>\n",
       "      <th>time</th>\n",
       "      <th>size</th>\n",
       "    </tr>\n",
       "  </thead>\n",
       "  <tbody>\n",
       "    <tr>\n",
       "      <th>239</th>\n",
       "      <td>29.03</td>\n",
       "      <td>5.92</td>\n",
       "      <td>Male</td>\n",
       "      <td>No</td>\n",
       "      <td>Sat</td>\n",
       "      <td>Dinner</td>\n",
       "      <td>3</td>\n",
       "    </tr>\n",
       "    <tr>\n",
       "      <th>240</th>\n",
       "      <td>27.18</td>\n",
       "      <td>2.00</td>\n",
       "      <td>Female</td>\n",
       "      <td>Yes</td>\n",
       "      <td>Sat</td>\n",
       "      <td>Dinner</td>\n",
       "      <td>2</td>\n",
       "    </tr>\n",
       "    <tr>\n",
       "      <th>241</th>\n",
       "      <td>22.67</td>\n",
       "      <td>2.00</td>\n",
       "      <td>Male</td>\n",
       "      <td>Yes</td>\n",
       "      <td>Sat</td>\n",
       "      <td>Dinner</td>\n",
       "      <td>2</td>\n",
       "    </tr>\n",
       "    <tr>\n",
       "      <th>242</th>\n",
       "      <td>17.82</td>\n",
       "      <td>1.75</td>\n",
       "      <td>Male</td>\n",
       "      <td>No</td>\n",
       "      <td>Sat</td>\n",
       "      <td>Dinner</td>\n",
       "      <td>2</td>\n",
       "    </tr>\n",
       "    <tr>\n",
       "      <th>243</th>\n",
       "      <td>18.78</td>\n",
       "      <td>3.00</td>\n",
       "      <td>Female</td>\n",
       "      <td>No</td>\n",
       "      <td>Thur</td>\n",
       "      <td>Dinner</td>\n",
       "      <td>2</td>\n",
       "    </tr>\n",
       "  </tbody>\n",
       "</table>\n",
       "</div>"
      ],
      "text/plain": [
       "     total_bill   tip     sex smoker   day    time  size\n",
       "239       29.03  5.92    Male     No   Sat  Dinner     3\n",
       "240       27.18  2.00  Female    Yes   Sat  Dinner     2\n",
       "241       22.67  2.00    Male    Yes   Sat  Dinner     2\n",
       "242       17.82  1.75    Male     No   Sat  Dinner     2\n",
       "243       18.78  3.00  Female     No  Thur  Dinner     2"
      ]
     },
     "execution_count": 5,
     "metadata": {},
     "output_type": "execute_result"
    }
   ],
   "source": [
    "df.tail()"
   ]
  },
  {
   "cell_type": "code",
   "execution_count": 6,
   "id": "1c43ee7f-5864-42f7-9208-f3d50b32cbbe",
   "metadata": {},
   "outputs": [
    {
     "data": {
      "text/plain": [
       "0      1.01\n",
       "1      1.66\n",
       "2      3.50\n",
       "3      3.31\n",
       "4      3.61\n",
       "       ... \n",
       "239    5.92\n",
       "240    2.00\n",
       "241    2.00\n",
       "242    1.75\n",
       "243    3.00\n",
       "Name: tip, Length: 244, dtype: float64"
      ]
     },
     "execution_count": 6,
     "metadata": {},
     "output_type": "execute_result"
    }
   ],
   "source": [
    "df['tip']"
   ]
  },
  {
   "cell_type": "code",
   "execution_count": 7,
   "id": "4e83697d-e91f-42ee-b34e-89abb6a7f46f",
   "metadata": {},
   "outputs": [
    {
     "data": {
      "text/plain": [
       "0    1.01\n",
       "1    1.66\n",
       "2    3.50\n",
       "3    3.31\n",
       "4    3.61\n",
       "Name: tip, dtype: float64"
      ]
     },
     "execution_count": 7,
     "metadata": {},
     "output_type": "execute_result"
    }
   ],
   "source": [
    "df['tip'].head()"
   ]
  },
  {
   "cell_type": "code",
   "execution_count": 8,
   "id": "0745818c-9302-452d-8168-429445f06bf7",
   "metadata": {},
   "outputs": [
    {
     "data": {
      "text/html": [
       "<div>\n",
       "<style scoped>\n",
       "    .dataframe tbody tr th:only-of-type {\n",
       "        vertical-align: middle;\n",
       "    }\n",
       "\n",
       "    .dataframe tbody tr th {\n",
       "        vertical-align: top;\n",
       "    }\n",
       "\n",
       "    .dataframe thead th {\n",
       "        text-align: right;\n",
       "    }\n",
       "</style>\n",
       "<table border=\"1\" class=\"dataframe\">\n",
       "  <thead>\n",
       "    <tr style=\"text-align: right;\">\n",
       "      <th></th>\n",
       "      <th>tip</th>\n",
       "      <th>day</th>\n",
       "    </tr>\n",
       "  </thead>\n",
       "  <tbody>\n",
       "    <tr>\n",
       "      <th>0</th>\n",
       "      <td>1.01</td>\n",
       "      <td>Sun</td>\n",
       "    </tr>\n",
       "    <tr>\n",
       "      <th>1</th>\n",
       "      <td>1.66</td>\n",
       "      <td>Sun</td>\n",
       "    </tr>\n",
       "    <tr>\n",
       "      <th>2</th>\n",
       "      <td>3.50</td>\n",
       "      <td>Sun</td>\n",
       "    </tr>\n",
       "    <tr>\n",
       "      <th>3</th>\n",
       "      <td>3.31</td>\n",
       "      <td>Sun</td>\n",
       "    </tr>\n",
       "    <tr>\n",
       "      <th>4</th>\n",
       "      <td>3.61</td>\n",
       "      <td>Sun</td>\n",
       "    </tr>\n",
       "    <tr>\n",
       "      <th>...</th>\n",
       "      <td>...</td>\n",
       "      <td>...</td>\n",
       "    </tr>\n",
       "    <tr>\n",
       "      <th>239</th>\n",
       "      <td>5.92</td>\n",
       "      <td>Sat</td>\n",
       "    </tr>\n",
       "    <tr>\n",
       "      <th>240</th>\n",
       "      <td>2.00</td>\n",
       "      <td>Sat</td>\n",
       "    </tr>\n",
       "    <tr>\n",
       "      <th>241</th>\n",
       "      <td>2.00</td>\n",
       "      <td>Sat</td>\n",
       "    </tr>\n",
       "    <tr>\n",
       "      <th>242</th>\n",
       "      <td>1.75</td>\n",
       "      <td>Sat</td>\n",
       "    </tr>\n",
       "    <tr>\n",
       "      <th>243</th>\n",
       "      <td>3.00</td>\n",
       "      <td>Thur</td>\n",
       "    </tr>\n",
       "  </tbody>\n",
       "</table>\n",
       "<p>244 rows × 2 columns</p>\n",
       "</div>"
      ],
      "text/plain": [
       "      tip   day\n",
       "0    1.01   Sun\n",
       "1    1.66   Sun\n",
       "2    3.50   Sun\n",
       "3    3.31   Sun\n",
       "4    3.61   Sun\n",
       "..    ...   ...\n",
       "239  5.92   Sat\n",
       "240  2.00   Sat\n",
       "241  2.00   Sat\n",
       "242  1.75   Sat\n",
       "243  3.00  Thur\n",
       "\n",
       "[244 rows x 2 columns]"
      ]
     },
     "execution_count": 8,
     "metadata": {},
     "output_type": "execute_result"
    }
   ],
   "source": [
    "df[['tip','day']]"
   ]
  },
  {
   "cell_type": "code",
   "execution_count": 9,
   "id": "bfb5e22e-c799-4d18-a5e3-ae80ffd6e41f",
   "metadata": {},
   "outputs": [
    {
     "data": {
      "text/plain": [
       "total_bill     16.99\n",
       "tip             1.01\n",
       "sex           Female\n",
       "smoker            No\n",
       "day              Sun\n",
       "time          Dinner\n",
       "size               2\n",
       "Name: 0, dtype: object"
      ]
     },
     "execution_count": 9,
     "metadata": {},
     "output_type": "execute_result"
    }
   ],
   "source": [
    "df.loc[0]"
   ]
  },
  {
   "cell_type": "code",
   "execution_count": 10,
   "id": "2bac41bb-09b5-40a5-a5c6-3d012de91ddd",
   "metadata": {},
   "outputs": [
    {
     "data": {
      "text/plain": [
       "total_bill     16.99\n",
       "tip             1.01\n",
       "sex           Female\n",
       "smoker            No\n",
       "day              Sun\n",
       "time          Dinner\n",
       "size               2\n",
       "Name: 0, dtype: object"
      ]
     },
     "execution_count": 10,
     "metadata": {},
     "output_type": "execute_result"
    }
   ],
   "source": [
    "df.iloc[0]"
   ]
  },
  {
   "cell_type": "code",
   "execution_count": 13,
   "id": "15fb316a-3518-4eec-8c23-643c21dc1488",
   "metadata": {},
   "outputs": [
    {
     "name": "stdout",
     "output_type": "stream",
     "text": [
      "Female\n",
      "1.01\n"
     ]
    }
   ],
   "source": [
    "print(df.loc[0, \"sex\"])        # Value at row 0, column 'Name'\n",
    "print(df.iloc[0, 1])            # Value at row 0, column at index 1"
   ]
  },
  {
   "cell_type": "code",
   "execution_count": 17,
   "id": "3677edab-6f34-4bb4-8545-d51ee45e8fc1",
   "metadata": {},
   "outputs": [
    {
     "name": "stdout",
     "output_type": "stream",
     "text": [
      "Label Based\n",
      "    tip     sex\n",
      "0  1.01  Female\n",
      "1  1.66    Male\n",
      "2  3.50    Male\n",
      "Index base\n",
      "   total_bill   tip     sex smoker\n",
      "0       16.99  1.01  Female     No\n",
      "1       10.34  1.66    Male     No\n",
      "2       21.01  3.50    Male     No\n"
     ]
    }
   ],
   "source": [
    "#loc for label based\n",
    "print(\"Label Based\")\n",
    "print(df.loc[0:2,[\"tip\",\"sex\"]])\n",
    "\n",
    "#iloc is index based\n",
    "print(\"Index base\")\n",
    "print(df.iloc[0:3,0:4])"
   ]
  },
  {
   "cell_type": "code",
   "execution_count": 18,
   "id": "cdb160ba-d5b6-4aaa-a3a2-0283a5ec6808",
   "metadata": {},
   "outputs": [
    {
     "data": {
      "text/plain": [
       "np.float64(16.99)"
      ]
     },
     "execution_count": 18,
     "metadata": {},
     "output_type": "execute_result"
    }
   ],
   "source": [
    "df.at[0,\"sex\"]\n",
    "df.iat[0,0]"
   ]
  },
  {
   "cell_type": "code",
   "execution_count": 22,
   "id": "ced97532-af00-4f00-86f3-0355c4781caa",
   "metadata": {},
   "outputs": [
    {
     "name": "stdout",
     "output_type": "stream",
     "text": [
      "     total_bill   tip   sex smoker  day    time  size\n",
      "1         10.34  1.66  Male     No  Sun  Dinner     3\n",
      "2         21.01  3.50  Male     No  Sun  Dinner     3\n",
      "3         23.68  3.31  Male     No  Sun  Dinner     2\n",
      "5         25.29  4.71  Male     No  Sun  Dinner     4\n",
      "6          8.77  2.00  Male     No  Sun  Dinner     2\n",
      "..          ...   ...   ...    ...  ...     ...   ...\n",
      "236       12.60  1.00  Male    Yes  Sat  Dinner     2\n",
      "237       32.83  1.17  Male    Yes  Sat  Dinner     2\n",
      "239       29.03  5.92  Male     No  Sat  Dinner     3\n",
      "241       22.67  2.00  Male    Yes  Sat  Dinner     2\n",
      "242       17.82  1.75  Male     No  Sat  Dinner     2\n",
      "\n",
      "[157 rows x 7 columns]\n"
     ]
    }
   ],
   "source": [
    "print(df[df[\"sex\"]==\"Male\"])"
   ]
  },
  {
   "cell_type": "code",
   "execution_count": 27,
   "id": "6ab11ff5-906a-4aee-b890-869cb69579c2",
   "metadata": {},
   "outputs": [
    {
     "name": "stdout",
     "output_type": "stream",
     "text": [
      "     total_bill    tip     sex smoker   day    time  size\n",
      "2         21.01   3.50    Male     No   Sun  Dinner     3\n",
      "17        16.29   3.71    Male     No   Sun  Dinner     3\n",
      "18        16.97   3.50  Female     No   Sun  Dinner     3\n",
      "19        20.65   3.35    Male     No   Sat  Dinner     3\n",
      "35        24.06   3.60    Male     No   Sat  Dinner     3\n",
      "37        16.93   3.07  Female     No   Sat  Dinner     3\n",
      "38        18.69   2.31    Male     No   Sat  Dinner     3\n",
      "39        31.27   5.00    Male     No   Sat  Dinner     3\n",
      "40        16.04   2.24    Male     No   Sat  Dinner     3\n",
      "48        28.55   2.05    Male     No   Sun  Dinner     3\n",
      "64        17.59   2.64    Male     No   Sat  Dinner     3\n",
      "65        20.08   3.15    Male     No   Sat  Dinner     3\n",
      "71        17.07   3.00  Female     No   Sat  Dinner     3\n",
      "102       44.30   2.50  Female    Yes   Sat  Dinner     3\n",
      "112       38.07   4.00    Male     No   Sun  Dinner     3\n",
      "114       25.71   4.00  Female     No   Sun  Dinner     3\n",
      "129       22.82   2.18    Male     No  Thur   Lunch     3\n",
      "152       17.26   2.74    Male     No   Sun  Dinner     3\n",
      "165       24.52   3.48    Male     No   Sun  Dinner     3\n",
      "170       50.81  10.00    Male    Yes   Sat  Dinner     3\n",
      "182       45.35   3.50    Male    Yes   Sun  Dinner     3\n",
      "186       20.90   3.50  Female    Yes   Sun  Dinner     3\n",
      "188       18.15   3.50  Female    Yes   Sun  Dinner     3\n",
      "189       23.10   4.00    Male    Yes   Sun  Dinner     3\n",
      "200       18.71   4.00    Male    Yes  Thur   Lunch     3\n",
      "205       16.47   3.23  Female    Yes  Thur   Lunch     3\n",
      "206       26.59   3.41    Male    Yes   Sat  Dinner     3\n",
      "214       28.17   6.50  Female    Yes   Sat  Dinner     3\n",
      "223       15.98   3.00  Female     No   Fri   Lunch     3\n",
      "231       15.69   3.00    Male    Yes   Sat  Dinner     3\n",
      "238       35.83   4.67  Female     No   Sat  Dinner     3\n",
      "239       29.03   5.92    Male     No   Sat  Dinner     3\n"
     ]
    }
   ],
   "source": [
    "print(df[(df[\"size\"]==3) & (df[\"tip\"]>2.00)])"
   ]
  },
  {
   "cell_type": "code",
   "execution_count": 30,
   "id": "36a1c423-e133-4d75-bce8-a42949c15bc5",
   "metadata": {},
   "outputs": [
    {
     "name": "stdout",
     "output_type": "stream",
     "text": [
      "     total_bill   tip     sex smoker  day    time  size\n",
      "0         16.99  1.01  Female     No  Sun  Dinner     2\n",
      "1         10.34  1.66    Male     No  Sun  Dinner     3\n",
      "2         21.01  3.50    Male     No  Sun  Dinner     3\n",
      "3         23.68  3.31    Male     No  Sun  Dinner     2\n",
      "4         24.59  3.61  Female     No  Sun  Dinner     4\n",
      "5         25.29  4.71    Male     No  Sun  Dinner     4\n",
      "6          8.77  2.00    Male     No  Sun  Dinner     2\n",
      "7         26.88  3.12    Male     No  Sun  Dinner     4\n",
      "8         15.04  1.96    Male     No  Sun  Dinner     2\n",
      "9         14.78  3.23    Male     No  Sun  Dinner     2\n",
      "10        10.27  1.71    Male     No  Sun  Dinner     2\n",
      "11        35.26  5.00  Female     No  Sun  Dinner     4\n",
      "12        15.42  1.57    Male     No  Sun  Dinner     2\n",
      "13        18.43  3.00    Male     No  Sun  Dinner     4\n",
      "14        14.83  3.02  Female     No  Sun  Dinner     2\n",
      "15        21.58  3.92    Male     No  Sun  Dinner     2\n",
      "16        10.33  1.67  Female     No  Sun  Dinner     3\n",
      "17        16.29  3.71    Male     No  Sun  Dinner     3\n",
      "18        16.97  3.50  Female     No  Sun  Dinner     3\n",
      "41        17.46  2.54    Male     No  Sun  Dinner     2\n",
      "42        13.94  3.06    Male     No  Sun  Dinner     2\n",
      "43         9.68  1.32    Male     No  Sun  Dinner     2\n",
      "44        30.40  5.60    Male     No  Sun  Dinner     4\n",
      "45        18.29  3.00    Male     No  Sun  Dinner     2\n",
      "46        22.23  5.00    Male     No  Sun  Dinner     2\n",
      "47        32.40  6.00    Male     No  Sun  Dinner     4\n",
      "48        28.55  2.05    Male     No  Sun  Dinner     3\n",
      "49        18.04  3.00    Male     No  Sun  Dinner     2\n",
      "50        12.54  2.50    Male     No  Sun  Dinner     2\n",
      "51        10.29  2.60  Female     No  Sun  Dinner     2\n",
      "52        34.81  5.20  Female     No  Sun  Dinner     4\n",
      "53         9.94  1.56    Male     No  Sun  Dinner     2\n",
      "54        25.56  4.34    Male     No  Sun  Dinner     4\n",
      "55        19.49  3.51    Male     No  Sun  Dinner     2\n",
      "112       38.07  4.00    Male     No  Sun  Dinner     3\n",
      "113       23.95  2.55    Male     No  Sun  Dinner     2\n",
      "114       25.71  4.00  Female     No  Sun  Dinner     3\n",
      "115       17.31  3.50  Female     No  Sun  Dinner     2\n",
      "116       29.93  5.07    Male     No  Sun  Dinner     4\n",
      "150       14.07  2.50    Male     No  Sun  Dinner     2\n",
      "151       13.13  2.00    Male     No  Sun  Dinner     2\n",
      "152       17.26  2.74    Male     No  Sun  Dinner     3\n",
      "153       24.55  2.00    Male     No  Sun  Dinner     4\n",
      "154       19.77  2.00    Male     No  Sun  Dinner     4\n",
      "155       29.85  5.14  Female     No  Sun  Dinner     5\n",
      "156       48.17  5.00    Male     No  Sun  Dinner     6\n",
      "157       25.00  3.75  Female     No  Sun  Dinner     4\n",
      "158       13.39  2.61  Female     No  Sun  Dinner     2\n",
      "159       16.49  2.00    Male     No  Sun  Dinner     4\n",
      "160       21.50  3.50    Male     No  Sun  Dinner     4\n",
      "161       12.66  2.50    Male     No  Sun  Dinner     2\n",
      "162       16.21  2.00  Female     No  Sun  Dinner     3\n",
      "163       13.81  2.00    Male     No  Sun  Dinner     2\n",
      "165       24.52  3.48    Male     No  Sun  Dinner     3\n",
      "166       20.76  2.24    Male     No  Sun  Dinner     2\n",
      "167       31.71  4.50    Male     No  Sun  Dinner     4\n",
      "185       20.69  5.00    Male     No  Sun  Dinner     5\n"
     ]
    }
   ],
   "source": [
    "print(df[(df[\"day\"]==\"Sun\" )& (df[\"smoker\"]==\"No\")])"
   ]
  },
  {
   "cell_type": "code",
   "execution_count": 31,
   "id": "ef942216-31b1-4871-b2c3-6f6ddf8e050d",
   "metadata": {},
   "outputs": [
    {
     "name": "stdout",
     "output_type": "stream",
     "text": [
      "     total_bill   tip     sex smoker  day    time  size\n",
      "56        38.01  3.00    Male    Yes  Sat  Dinner     4\n",
      "58        11.24  1.76    Male    Yes  Sat  Dinner     2\n",
      "60        20.29  3.21    Male    Yes  Sat  Dinner     2\n",
      "61        13.81  2.00    Male    Yes  Sat  Dinner     2\n",
      "62        11.02  1.98    Male    Yes  Sat  Dinner     2\n",
      "..          ...   ...     ...    ...  ...     ...   ...\n",
      "234       15.53  3.00    Male    Yes  Sat  Dinner     2\n",
      "236       12.60  1.00    Male    Yes  Sat  Dinner     2\n",
      "237       32.83  1.17    Male    Yes  Sat  Dinner     2\n",
      "240       27.18  2.00  Female    Yes  Sat  Dinner     2\n",
      "241       22.67  2.00    Male    Yes  Sat  Dinner     2\n",
      "\n",
      "[93 rows x 7 columns]\n"
     ]
    }
   ],
   "source": [
    "print(df[(df[\"day\"]==\"Mon\")|(df[\"smoker\"]==\"Yes\")])"
   ]
  },
  {
   "cell_type": "code",
   "execution_count": 32,
   "id": "18f1a88d-7f2e-4dd9-a8a2-6e1804d3be00",
   "metadata": {},
   "outputs": [
    {
     "data": {
      "text/html": [
       "<div>\n",
       "<style scoped>\n",
       "    .dataframe tbody tr th:only-of-type {\n",
       "        vertical-align: middle;\n",
       "    }\n",
       "\n",
       "    .dataframe tbody tr th {\n",
       "        vertical-align: top;\n",
       "    }\n",
       "\n",
       "    .dataframe thead th {\n",
       "        text-align: right;\n",
       "    }\n",
       "</style>\n",
       "<table border=\"1\" class=\"dataframe\">\n",
       "  <thead>\n",
       "    <tr style=\"text-align: right;\">\n",
       "      <th></th>\n",
       "      <th>total_bill</th>\n",
       "      <th>tip</th>\n",
       "      <th>sex</th>\n",
       "      <th>smoker</th>\n",
       "      <th>day</th>\n",
       "      <th>time</th>\n",
       "      <th>size</th>\n",
       "    </tr>\n",
       "  </thead>\n",
       "  <tbody>\n",
       "    <tr>\n",
       "      <th>141</th>\n",
       "      <td>34.30</td>\n",
       "      <td>6.7</td>\n",
       "      <td>Male</td>\n",
       "      <td>No</td>\n",
       "      <td>Thur</td>\n",
       "      <td>Lunch</td>\n",
       "      <td>6</td>\n",
       "    </tr>\n",
       "    <tr>\n",
       "      <th>142</th>\n",
       "      <td>41.19</td>\n",
       "      <td>5.0</td>\n",
       "      <td>Male</td>\n",
       "      <td>No</td>\n",
       "      <td>Thur</td>\n",
       "      <td>Lunch</td>\n",
       "      <td>5</td>\n",
       "    </tr>\n",
       "    <tr>\n",
       "      <th>156</th>\n",
       "      <td>48.17</td>\n",
       "      <td>5.0</td>\n",
       "      <td>Male</td>\n",
       "      <td>No</td>\n",
       "      <td>Sun</td>\n",
       "      <td>Dinner</td>\n",
       "      <td>6</td>\n",
       "    </tr>\n",
       "    <tr>\n",
       "      <th>185</th>\n",
       "      <td>20.69</td>\n",
       "      <td>5.0</td>\n",
       "      <td>Male</td>\n",
       "      <td>No</td>\n",
       "      <td>Sun</td>\n",
       "      <td>Dinner</td>\n",
       "      <td>5</td>\n",
       "    </tr>\n",
       "    <tr>\n",
       "      <th>187</th>\n",
       "      <td>30.46</td>\n",
       "      <td>2.0</td>\n",
       "      <td>Male</td>\n",
       "      <td>Yes</td>\n",
       "      <td>Sun</td>\n",
       "      <td>Dinner</td>\n",
       "      <td>5</td>\n",
       "    </tr>\n",
       "    <tr>\n",
       "      <th>216</th>\n",
       "      <td>28.15</td>\n",
       "      <td>3.0</td>\n",
       "      <td>Male</td>\n",
       "      <td>Yes</td>\n",
       "      <td>Sat</td>\n",
       "      <td>Dinner</td>\n",
       "      <td>5</td>\n",
       "    </tr>\n",
       "  </tbody>\n",
       "</table>\n",
       "</div>"
      ],
      "text/plain": [
       "     total_bill  tip   sex smoker   day    time  size\n",
       "141       34.30  6.7  Male     No  Thur   Lunch     6\n",
       "142       41.19  5.0  Male     No  Thur   Lunch     5\n",
       "156       48.17  5.0  Male     No   Sun  Dinner     6\n",
       "185       20.69  5.0  Male     No   Sun  Dinner     5\n",
       "187       30.46  2.0  Male    Yes   Sun  Dinner     5\n",
       "216       28.15  3.0  Male    Yes   Sat  Dinner     5"
      ]
     },
     "execution_count": 32,
     "metadata": {},
     "output_type": "execute_result"
    }
   ],
   "source": [
    "df.query(\"sex=='Male' and size>4\")"
   ]
  },
  {
   "cell_type": "code",
   "execution_count": 41,
   "id": "bcb081c0-be4d-441f-9799-49171b6a3b0c",
   "metadata": {},
   "outputs": [
    {
     "data": {
      "text/html": [
       "<div>\n",
       "<style scoped>\n",
       "    .dataframe tbody tr th:only-of-type {\n",
       "        vertical-align: middle;\n",
       "    }\n",
       "\n",
       "    .dataframe tbody tr th {\n",
       "        vertical-align: top;\n",
       "    }\n",
       "\n",
       "    .dataframe thead th {\n",
       "        text-align: right;\n",
       "    }\n",
       "</style>\n",
       "<table border=\"1\" class=\"dataframe\">\n",
       "  <thead>\n",
       "    <tr style=\"text-align: right;\">\n",
       "      <th></th>\n",
       "      <th>total_bill</th>\n",
       "      <th>tip</th>\n",
       "      <th>sex</th>\n",
       "      <th>smoker</th>\n",
       "      <th>day</th>\n",
       "      <th>time</th>\n",
       "      <th>size</th>\n",
       "    </tr>\n",
       "  </thead>\n",
       "  <tbody>\n",
       "    <tr>\n",
       "      <th>141</th>\n",
       "      <td>34.30</td>\n",
       "      <td>6.7</td>\n",
       "      <td>Male</td>\n",
       "      <td>No</td>\n",
       "      <td>Thur</td>\n",
       "      <td>Lunch</td>\n",
       "      <td>6</td>\n",
       "    </tr>\n",
       "    <tr>\n",
       "      <th>142</th>\n",
       "      <td>41.19</td>\n",
       "      <td>5.0</td>\n",
       "      <td>Male</td>\n",
       "      <td>No</td>\n",
       "      <td>Thur</td>\n",
       "      <td>Lunch</td>\n",
       "      <td>5</td>\n",
       "    </tr>\n",
       "    <tr>\n",
       "      <th>156</th>\n",
       "      <td>48.17</td>\n",
       "      <td>5.0</td>\n",
       "      <td>Male</td>\n",
       "      <td>No</td>\n",
       "      <td>Sun</td>\n",
       "      <td>Dinner</td>\n",
       "      <td>6</td>\n",
       "    </tr>\n",
       "    <tr>\n",
       "      <th>185</th>\n",
       "      <td>20.69</td>\n",
       "      <td>5.0</td>\n",
       "      <td>Male</td>\n",
       "      <td>No</td>\n",
       "      <td>Sun</td>\n",
       "      <td>Dinner</td>\n",
       "      <td>5</td>\n",
       "    </tr>\n",
       "    <tr>\n",
       "      <th>187</th>\n",
       "      <td>30.46</td>\n",
       "      <td>2.0</td>\n",
       "      <td>Male</td>\n",
       "      <td>Yes</td>\n",
       "      <td>Sun</td>\n",
       "      <td>Dinner</td>\n",
       "      <td>5</td>\n",
       "    </tr>\n",
       "    <tr>\n",
       "      <th>216</th>\n",
       "      <td>28.15</td>\n",
       "      <td>3.0</td>\n",
       "      <td>Male</td>\n",
       "      <td>Yes</td>\n",
       "      <td>Sat</td>\n",
       "      <td>Dinner</td>\n",
       "      <td>5</td>\n",
       "    </tr>\n",
       "  </tbody>\n",
       "</table>\n",
       "</div>"
      ],
      "text/plain": [
       "     total_bill  tip   sex smoker   day    time  size\n",
       "141       34.30  6.7  Male     No  Thur   Lunch     6\n",
       "142       41.19  5.0  Male     No  Thur   Lunch     5\n",
       "156       48.17  5.0  Male     No   Sun  Dinner     6\n",
       "185       20.69  5.0  Male     No   Sun  Dinner     5\n",
       "187       30.46  2.0  Male    Yes   Sun  Dinner     5\n",
       "216       28.15  3.0  Male    Yes   Sat  Dinner     5"
      ]
     },
     "execution_count": 41,
     "metadata": {},
     "output_type": "execute_result"
    }
   ],
   "source": [
    "df.query(\"`sex`=='Male' and `size`>4\")"
   ]
  },
  {
   "cell_type": "code",
   "execution_count": null,
   "id": "700c68ce-26c2-4725-b7a3-68f4aa43a308",
   "metadata": {},
   "outputs": [],
   "source": []
  }
 ],
 "metadata": {
  "kernelspec": {
   "display_name": "Python 3 (ipykernel)",
   "language": "python",
   "name": "python3"
  },
  "language_info": {
   "codemirror_mode": {
    "name": "ipython",
    "version": 3
   },
   "file_extension": ".py",
   "mimetype": "text/x-python",
   "name": "python",
   "nbconvert_exporter": "python",
   "pygments_lexer": "ipython3",
   "version": "3.13.5"
  }
 },
 "nbformat": 4,
 "nbformat_minor": 5
}
