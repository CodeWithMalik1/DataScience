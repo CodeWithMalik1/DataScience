{
 "cells": [
  {
   "cell_type": "code",
   "execution_count": 1,
   "id": "4c69a54b-41e2-4a8d-915a-43caf11ec0ae",
   "metadata": {},
   "outputs": [
    {
     "data": {
      "text/plain": [
       "array([12, 15, 18])"
      ]
     },
     "execution_count": 1,
     "metadata": {},
     "output_type": "execute_result"
    }
   ],
   "source": [
    "import numpy as np\n",
    "arr=np.array([[1 ,2 ,3],\n",
    " [4 ,5 ,6],\n",
    " [7 ,8 ,9]])\n",
    "\n",
    "np.sum(arr,axis=0)"
   ]
  },
  {
   "cell_type": "code",
   "execution_count": 2,
   "id": "712c9fb4-6349-4830-ae57-3eb9664f6ccf",
   "metadata": {},
   "outputs": [
    {
     "data": {
      "text/plain": [
       "array([ 6, 15, 24])"
      ]
     },
     "execution_count": 2,
     "metadata": {},
     "output_type": "execute_result"
    }
   ],
   "source": [
    "np.sum(arr,axis=1)"
   ]
  },
  {
   "cell_type": "code",
   "execution_count": 3,
   "id": "5d331ba4-3b50-4e85-9de5-6695c9a3ab20",
   "metadata": {},
   "outputs": [
    {
     "data": {
      "text/plain": [
       "array([[1, 2],\n",
       "       [4, 5]])"
      ]
     },
     "execution_count": 3,
     "metadata": {},
     "output_type": "execute_result"
    }
   ],
   "source": [
    "arr[0:2,0:2]"
   ]
  },
  {
   "cell_type": "code",
   "execution_count": 4,
   "id": "ca7ccdf7-897e-4631-8c6e-a7cba14ba058",
   "metadata": {},
   "outputs": [
    {
     "name": "stdout",
     "output_type": "stream",
     "text": [
      "[[[ 1  2  3]\n",
      "  [ 4  5  6]]\n",
      "\n",
      " [[ 7  8  9]\n",
      "  [10 11 12]]]\n"
     ]
    }
   ],
   "source": [
    "#3d array\n",
    "\n",
    "arr3D=np.array([\n",
    "    [[1,2,3],[4,5,6]],\n",
    "\n",
    "    [[7,8,9],[10,11,12]]\n",
    "    \n",
    "])\n",
    "print(arr3D)"
   ]
  },
  {
   "cell_type": "code",
   "execution_count": 7,
   "id": "6d73f459-3daa-493a-a4e2-0f53cfa4ce86",
   "metadata": {},
   "outputs": [
    {
     "name": "stdout",
     "output_type": "stream",
     "text": [
      "[5 6]\n"
     ]
    }
   ],
   "source": [
    "print(arr3D[0,1,1:])"
   ]
  },
  {
   "cell_type": "code",
   "execution_count": 8,
   "id": "e13cfbfe-ccfb-4495-a5ed-957ef614950f",
   "metadata": {},
   "outputs": [
    {
     "name": "stdout",
     "output_type": "stream",
     "text": [
      "[[[1 2 3]\n",
      "  [4 5 6]]\n",
      "\n",
      " [[7 8 9]\n",
      "  [0 0 0]]]\n"
     ]
    }
   ],
   "source": [
    "arr3D[1,1,:]=0\n",
    "print(arr3D)"
   ]
  },
  {
   "cell_type": "code",
   "execution_count": null,
   "id": "9b97ac02-66e4-4cb7-9940-4a07b156d318",
   "metadata": {},
   "outputs": [],
   "source": []
  }
 ],
 "metadata": {
  "kernelspec": {
   "display_name": "Python 3 (ipykernel)",
   "language": "python",
   "name": "python3"
  },
  "language_info": {
   "codemirror_mode": {
    "name": "ipython",
    "version": 3
   },
   "file_extension": ".py",
   "mimetype": "text/x-python",
   "name": "python",
   "nbconvert_exporter": "python",
   "pygments_lexer": "ipython3",
   "version": "3.13.5"
  }
 },
 "nbformat": 4,
 "nbformat_minor": 5
}
