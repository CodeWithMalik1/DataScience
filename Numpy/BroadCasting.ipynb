{
 "cells": [
  {
   "cell_type": "code",
   "execution_count": 5,
   "id": "160d435f-e6aa-4b7e-bfbb-324f9dedc1ab",
   "metadata": {},
   "outputs": [
    {
     "name": "stdout",
     "output_type": "stream",
     "text": [
      "1 4 9 16 25 \n",
      "[ 1  4  9 16 25]\n"
     ]
    }
   ],
   "source": [
    "\n",
    "import numpy as np\n",
    "arr=np.array([1,2,3,4,5])\n",
    "#it is a general method and it is slow compared to vectorization mehtod\n",
    "for i in arr:\n",
    "    print(i**2,end=\" \")\n",
    "print()\n",
    "#vectorization method is faster and does the work simultenously \n",
    "result=arr**2\n",
    "print(result)"
   ]
  },
  {
   "cell_type": "markdown",
   "id": "aba7cf97-b4fd-422c-8d88-701ebdb011e8",
   "metadata": {},
   "source": [
    "Scalaing arrays without memory is called BroadCAsting"
   ]
  },
  {
   "cell_type": "code",
   "execution_count": 7,
   "id": "bd04ad55-d843-4771-90d8-9c5db25dc512",
   "metadata": {},
   "outputs": [
    {
     "name": "stdout",
     "output_type": "stream",
     "text": [
      "[11 12 13 14 15]\n"
     ]
    }
   ],
   "source": [
    "result=arr+10\n",
    "print(result)"
   ]
  },
  {
   "cell_type": "code",
   "execution_count": 8,
   "id": "b06143af-1143-4a4b-bf5f-692ea2b3a43c",
   "metadata": {},
   "outputs": [
    {
     "name": "stdout",
     "output_type": "stream",
     "text": [
      "[[2 4 6]\n",
      " [5 7 9]]\n"
     ]
    }
   ],
   "source": [
    "arr1 = np.array([[1, 2, 3], [4, 5, 6]])\n",
    "arr2 = np.array([1, 2, 3])\n",
    "\n",
    "result = arr1 + arr2  # Broadcasting arr2 across arr1\n",
    "print(result)\n",
    "# Output:\n",
    "# [[2 4 6]\n",
    "#  [5 7 9]]"
   ]
  },
  {
   "cell_type": "markdown",
   "id": "219bce4c-e576-482d-9b95-4c92d00123f1",
   "metadata": {},
   "source": [
    "Normalizing Data Using Broadcasting"
   ]
  },
  {
   "cell_type": "code",
   "execution_count": 9,
   "id": "3a93d024-12a6-4bd9-a251-59a625a4d1fa",
   "metadata": {},
   "outputs": [
    {
     "name": "stdout",
     "output_type": "stream",
     "text": [
      "[[-1.41421356 -1.41421356 -1.41421356]\n",
      " [-0.70710678 -0.70710678 -0.70710678]\n",
      " [ 0.          0.          0.        ]\n",
      " [ 0.70710678  0.70710678  0.70710678]\n",
      " [ 1.41421356  1.41421356  1.41421356]]\n"
     ]
    }
   ],
   "source": [
    "# Simulating a dataset (5 samples, 3 features)\n",
    "data = np.array([[10, 20, 30],\n",
    "                 [15, 25, 35],\n",
    "                 [20, 30, 40],\n",
    "                 [25, 35, 45],\n",
    "                 [30, 40, 50]])\n",
    "\n",
    "# Calculating mean and standard deviation for each feature (column)\n",
    "mean = data.mean(axis=0)\n",
    "std = data.std(axis=0)\n",
    "\n",
    "# Normalizing the data using broadcasting\n",
    "normalized_data = (data - mean) / std\n",
    "\n",
    "print(normalized_data)"
   ]
  },
  {
   "cell_type": "code",
   "execution_count": null,
   "id": "189fb803-aa60-4170-b7b3-9b9bec6a28d8",
   "metadata": {},
   "outputs": [],
   "source": []
  }
 ],
 "metadata": {
  "kernelspec": {
   "display_name": "Python 3 (ipykernel)",
   "language": "python",
   "name": "python3"
  },
  "language_info": {
   "codemirror_mode": {
    "name": "ipython",
    "version": 3
   },
   "file_extension": ".py",
   "mimetype": "text/x-python",
   "name": "python",
   "nbconvert_exporter": "python",
   "pygments_lexer": "ipython3",
   "version": "3.13.5"
  }
 },
 "nbformat": 4,
 "nbformat_minor": 5
}
