{
 "cells": [
  {
   "cell_type": "code",
   "execution_count": 14,
   "id": "0bd96e45-cad0-43cc-a1c6-bd2f4eb99f75",
   "metadata": {},
   "outputs": [
    {
     "name": "stdout",
     "output_type": "stream",
     "text": [
      "10\n",
      "50\n",
      "[10 20 30 40]\n",
      "[10 20 30 40 50]\n",
      "[20 30 40]\n",
      "[50 40 30 20 10]\n"
     ]
    }
   ],
   "source": [
    "import numpy as np\n",
    "arr=np.array([10,20,30,40,50])\n",
    "print(arr[0])\n",
    "print(arr[-1])\n",
    "\n",
    "print(arr[0:-1])\n",
    "print(arr[0:])\n",
    "print(arr[-4:-1])\n",
    "\n",
    "print(arr[::-1])"
   ]
  },
  {
   "cell_type": "code",
   "execution_count": 17,
   "id": "472e56df-b5fd-4dac-99ef-e39ad7aff2a5",
   "metadata": {},
   "outputs": [
    {
     "name": "stdout",
     "output_type": "stream",
     "text": [
      "[1 2 3 4 5 6 7 8 9]\n",
      "[4 5 6 7]\n",
      "[ 4 24  6  7]\n",
      "[ 1  2  3  4 24  6  7  8  9]\n"
     ]
    }
   ],
   "source": [
    "a=np.array([1,2,3,4,5,6,7,8,9])\n",
    "print(a)\n",
    "b=a[3:6]\n",
    "print(b)\n",
    "b[1]=24\n",
    "print(b)\n",
    "print(a)\n"
   ]
  },
  {
   "cell_type": "code",
   "execution_count": 18,
   "id": "2d557af2-090a-4ed0-a1e5-16af6a2cb743",
   "metadata": {},
   "outputs": [
    {
     "name": "stdout",
     "output_type": "stream",
     "text": [
      "[8 9]\n",
      "[  8 222]\n",
      "[ 1  2  3  4 24  6  7  8  9]\n"
     ]
    }
   ],
   "source": [
    "#To avoid changes in a array use simply .copy\n",
    "\n",
    "c=a[7:9].copy()\n",
    "print(c)\n",
    "c[1]=222\n",
    "print(c)\n",
    "print(a)"
   ]
  },
  {
   "cell_type": "code",
   "execution_count": 19,
   "id": "3a0905cd-0345-436f-969a-5fb8de80524e",
   "metadata": {},
   "outputs": [
    {
     "name": "stdout",
     "output_type": "stream",
     "text": [
      "[ 1  2 24  7]\n"
     ]
    }
   ],
   "source": [
    "#fancy indexing\n",
    "idx=[0,1,4,6]\n",
    "print(a[idx])"
   ]
  },
  {
   "cell_type": "code",
   "execution_count": 22,
   "id": "93a60ae6-0843-46a4-b7a2-2a9f03a57d9d",
   "metadata": {},
   "outputs": [
    {
     "name": "stdout",
     "output_type": "stream",
     "text": [
      "2 4 24 6 8 "
     ]
    }
   ],
   "source": [
    "#Boolean MAsking\n",
    "for i in a:\n",
    "    if i%2==0:\n",
    "        print(i,end=\" \")"
   ]
  },
  {
   "cell_type": "markdown",
   "id": "f8b1bc3f-a876-4f05-90a6-982482f262c5",
   "metadata": {},
   "source": [
    "#Exercise for Practice\n"
   ]
  },
  {
   "cell_type": "code",
   "execution_count": 24,
   "id": "b93df11e-94e7-450e-b090-083c26371454",
   "metadata": {},
   "outputs": [
    {
     "name": "stdout",
     "output_type": "stream",
     "text": [
      "shape :  (3, 3)\n"
     ]
    }
   ],
   "source": [
    "#Create a 3×3 array filled with random numbers and print its shape.\n",
    "arr=np.array([[1,2,3],[4,5,6],[7,8,9]])\n",
    "print(\"shape : \",arr.shape)"
   ]
  },
  {
   "cell_type": "code",
   "execution_count": 27,
   "id": "050628c6-08ad-4300-94d8-bb953e5a32ec",
   "metadata": {},
   "outputs": [
    {
     "name": "stdout",
     "output_type": "stream",
     "text": [
      "[1 2 3]\n"
     ]
    }
   ],
   "source": [
    "#Convert an array of floats [1.1, 2.2, 3.3] into integers.\n",
    "\n",
    "arr1=np.array([1.1,2.2,3.3])\n",
    "converted=arr1.astype(np.int32)\n",
    "print(converted)"
   ]
  },
  {
   "cell_type": "code",
   "execution_count": 29,
   "id": "440198e0-b6f3-49ce-b0de-19d8b90fd651",
   "metadata": {},
   "outputs": [
    {
     "name": "stdout",
     "output_type": "stream",
     "text": [
      "[2 4 6]\n"
     ]
    }
   ],
   "source": [
    "#Use fancy indexing to extract even numbers from [1, 2, 3, 4, 5, 6].\n",
    "arr2=np.array([1, 2, 3, 4, 5, 6])\n",
    "idx=[1,3,5]\n",
    "print(arr2[idx])"
   ]
  },
  {
   "cell_type": "code",
   "execution_count": 30,
   "id": "353f6894-95e9-4f8e-adf4-75cb1432ec6a",
   "metadata": {},
   "outputs": [
    {
     "name": "stdout",
     "output_type": "stream",
     "text": [
      "[[1 2 3]\n",
      " [4 5 6]\n",
      " [7 8 9]]\n"
     ]
    }
   ],
   "source": [
    "#Reshape a 1D array of size 9 into a 3×3 matrix.\n",
    "arr3=np.array([1,2,3,4,5,6,7,8,9])\n",
    "reshaped=arr3.reshape(3,3)\n",
    "print(reshaped)"
   ]
  },
  {
   "cell_type": "code",
   "execution_count": 32,
   "id": "6d2c4b57-7194-4784-b8cc-dda0037f92d4",
   "metadata": {},
   "outputs": [
    {
     "name": "stdout",
     "output_type": "stream",
     "text": [
      "[122 343 335  63  58]\n"
     ]
    }
   ],
   "source": [
    "#Use boolean masking to filter numbers greater than 50 in an array.\n",
    "arr3=np.array([122,22,33,343,335,63,17,58,19])\n",
    "mask=arr3>50\n",
    "print(arr3[mask])"
   ]
  },
  {
   "cell_type": "code",
   "execution_count": null,
   "id": "97a8d54d-cf06-4e04-bf8e-2c18598bb0cf",
   "metadata": {},
   "outputs": [],
   "source": []
  }
 ],
 "metadata": {
  "kernelspec": {
   "display_name": "Python 3 (ipykernel)",
   "language": "python",
   "name": "python3"
  },
  "language_info": {
   "codemirror_mode": {
    "name": "ipython",
    "version": 3
   },
   "file_extension": ".py",
   "mimetype": "text/x-python",
   "name": "python",
   "nbconvert_exporter": "python",
   "pygments_lexer": "ipython3",
   "version": "3.13.5"
  }
 },
 "nbformat": 4,
 "nbformat_minor": 5
}
