{
 "cells": [
  {
   "cell_type": "markdown",
   "id": "a2ff59f9-c6b7-414e-98a5-aa425cc989cd",
   "metadata": {},
   "source": [
    "#Speed Test for Numpy and Lists"
   ]
  },
  {
   "cell_type": "code",
   "execution_count": 4,
   "id": "11f1a899-29f8-4526-aab5-a5804407d4dc",
   "metadata": {},
   "outputs": [
    {
     "name": "stdout",
     "output_type": "stream",
     "text": [
      "Python list addition time: 0.13976454734802246\n",
      "NumPy array addition time: 0.022267818450927734\n"
     ]
    }
   ],
   "source": [
    "import numpy as np\n",
    "import time\n",
    "size=1_000_000\n",
    "#Python using Lists\n",
    "l1=list(range(size))\n",
    "l2=list(range(size))\n",
    "start=time.time()\n",
    "result=[x+y for x,y in zip(l1,l2)]\n",
    "end=time.time()\n",
    "print(\"Python list addition time:\", end - start)\n",
    "\n",
    "\n",
    "#NumPy Arrays\n",
    "arr1=np.array(l1)\n",
    "arr2=np.array(l2)\n",
    "start=time.time()\n",
    "result=arr1+arr2;\n",
    "end=time.time()\n",
    "print(\"NumPy array addition time:\", end - start)\n"
   ]
  }
 ],
 "metadata": {
  "kernelspec": {
   "display_name": "Python 3 (ipykernel)",
   "language": "python",
   "name": "python3"
  },
  "language_info": {
   "codemirror_mode": {
    "name": "ipython",
    "version": 3
   },
   "file_extension": ".py",
   "mimetype": "text/x-python",
   "name": "python",
   "nbconvert_exporter": "python",
   "pygments_lexer": "ipython3",
   "version": "3.13.5"
  }
 },
 "nbformat": 4,
 "nbformat_minor": 5
}
